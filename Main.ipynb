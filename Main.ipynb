{
 "cells": [
  {
   "cell_type": "markdown",
   "metadata": {},
   "source": [
    "# Import Packages"
   ]
  },
  {
   "cell_type": "code",
   "execution_count": 48,
   "metadata": {},
   "outputs": [],
   "source": [
    "import matplotlib.pyplot as plt\n",
    "import matplotlib.image as mpimg\n",
    "import numpy as np\n",
    "import cv2\n",
    "import os\n",
    "%matplotlib inline"
   ]
  },
  {
   "cell_type": "markdown",
   "metadata": {},
   "source": [
    "# Steps"
   ]
  },
  {
   "cell_type": "markdown",
   "metadata": {},
   "source": [
    "* Compute the camera calibration matrix and distortion coefficients given a set of chessboard images.\n",
    "* Apply a distortion correction to raw images.\n",
    "* Use color transforms, gradients, etc., to create a thresholded binary image.\n",
    "* Apply a perspective transform to rectify binary image (\"birds-eye view\").\n",
    "* Detect lane pixels and fit to find the lane boundary.\n",
    "* Determine the curvature of the lane and vehicle position with respect to center.\n",
    "* Warp the detected lane boundaries back onto the original image.\n",
    "* Output visual display of the lane boundaries and numerical estimation of lane curvature and vehicle position."
   ]
  },
  {
   "cell_type": "markdown",
   "metadata": {},
   "source": [
    "## Camera Calibration"
   ]
  },
  {
   "cell_type": "code",
   "execution_count": 73,
   "metadata": {},
   "outputs": [],
   "source": [
    "# Create function to return image and object points for an image\n",
    "def get_cal_points(image,nx,ny):\n",
    "    \n",
    "    # Debugplot flag\n",
    "    debugplot = False\n",
    "    \n",
    "    # Initialize image and object points to empty\n",
    "    objp = []\n",
    "    imgp = []\n",
    "    \n",
    "    # Convert to grayscale\n",
    "    image_gray = cv2.cvtColor(image,cv2.COLOR_BGR2GRAY)\n",
    "    \n",
    "    # Find chessboard corners\n",
    "    ret, corners = cv2.findChessboardCorners(image_gray, (nx, ny), None)\n",
    "    \n",
    "    # If found, update image and object points\n",
    "    if ret == True:\n",
    "        objp = np.zeros((nx*ny,3),np.float32)\n",
    "        objp[:,:2] = np.mgrid[0:nx,0:ny].T.reshape(-1,2)\n",
    "        imgp = corners\n",
    "        \n",
    "        # Debugplot\n",
    "        if debugplot:\n",
    "            plt.figure()\n",
    "            cv2.drawChessboardCorners(image, (nx, ny), corners, ret)\n",
    "            plt.imshow(image)\n",
    "    \n",
    "    return ret,objp,imgp\n",
    "\n",
    "# Initialize arrays to store all image and object points\n",
    "objpoints = []\n",
    "imgpoints = []\n",
    "\n",
    "# Go through each file and obtain object and image points\n",
    "files = os.listdir(\"camera_cal/\")\n",
    "nx = 9\n",
    "ny = 6\n",
    "for file in files[0:3]:\n",
    "    image = cv2.imread('camera_cal/' + file)\n",
    "    ret,objp,imgp = get_cal_points(image,nx,ny)\n",
    "    if ret:\n",
    "        objpoints.append(objp)\n",
    "        imgpoints.append(imgp)\n",
    "\n",
    "# Obtain camera calibration\n",
    "ret, mtx, dist, rvecs, tvecs = cv2.calibrateCamera(objpoints, imgpoints, image.shape[1::-1], None, None)\n",
    "\n",
    "# Undistort and show"
   ]
  },
  {
   "cell_type": "code",
   "execution_count": null,
   "metadata": {},
   "outputs": [],
   "source": []
  }
 ],
 "metadata": {
  "kernelspec": {
   "display_name": "Python [conda env:Ud_CarND]",
   "language": "python",
   "name": "conda-env-Ud_CarND-py"
  },
  "language_info": {
   "codemirror_mode": {
    "name": "ipython",
    "version": 3
   },
   "file_extension": ".py",
   "mimetype": "text/x-python",
   "name": "python",
   "nbconvert_exporter": "python",
   "pygments_lexer": "ipython3",
   "version": "3.6.6"
  }
 },
 "nbformat": 4,
 "nbformat_minor": 2
}
